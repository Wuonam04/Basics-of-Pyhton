{
 "cells": [
  {
   "cell_type": "code",
   "execution_count": 4,
   "id": "43cdc2bd",
   "metadata": {},
   "outputs": [
    {
     "name": "stdout",
     "output_type": "stream",
     "text": [
      "1\n",
      "2\n",
      "3\n",
      "4\n",
      "5\n",
      "[0, 1, 4, 9, 16]\n"
     ]
    }
   ],
   "source": [
    "L = []\n",
    "for i in range(5):\n",
    "    print(i + 1)\n",
    "    L.append(i**2)\n",
    "print(L)"
   ]
  },
  {
   "cell_type": "code",
   "execution_count": 7,
   "id": "8b9be3ad",
   "metadata": {},
   "outputs": [
    {
     "name": "stdout",
     "output_type": "stream",
     "text": [
      "do nothing\n",
      "DONE\n"
     ]
    }
   ],
   "source": [
    "i = 1\n",
    "while True:\n",
    "    if i%17 == 0:\n",
    "        print(\"BREAK\")\n",
    "    else:\n",
    "        i += 1\n",
    "        print(\"do nothing\")\n",
    "        break\n",
    "print(\"DONE\")"
   ]
  },
  {
   "cell_type": "code",
   "execution_count": 21,
   "id": "fa106313",
   "metadata": {},
   "outputs": [
    {
     "name": "stdout",
     "output_type": "stream",
     "text": [
      "12345678910"
     ]
    }
   ],
   "source": [
    "import time\n",
    "for i in range(10):\n",
    "    i += 1\n",
    "    print(i, end='')\n",
    "    time.sleep(2)"
   ]
  },
  {
   "cell_type": "code",
   "execution_count": 6,
   "id": "f1e5efd8",
   "metadata": {},
   "outputs": [
    {
     "name": "stdout",
     "output_type": "stream",
     "text": [
      "inside if\n",
      "inside if\n",
      "inside if\n",
      "inside if\n",
      "inside if\n",
      "inside if\n",
      "inside if\n",
      "inside if\n",
      "yes\n",
      "yes-yes\n",
      "DONE\n"
     ]
    }
   ],
   "source": [
    "n = 10\n",
    "i = 1\n",
    "while True:\n",
    "    if i%9 != 0:\n",
    "        print(\"inside if\")\n",
    "        i += 1\n",
    "        continue\n",
    "    else:\n",
    "        print(\"yes\")\n",
    "        print(\"yes-yes\")\n",
    "        break\n",
    "print(\"DONE\")"
   ]
  },
  {
   "cell_type": "code",
   "execution_count": 10,
   "id": "398908e2",
   "metadata": {},
   "outputs": [
    {
     "name": "stdout",
     "output_type": "stream",
     "text": [
      "1\n",
      "2\n",
      "3\n",
      "4\n",
      "5\n",
      "6\n",
      "7\n",
      "8\n",
      "9\n",
      "10\n",
      "[0, 1, 4, 9, 16, 25, 36, 49, 64, 81]\n"
     ]
    }
   ],
   "source": [
    "L = []\n",
    "for i in range (10):\n",
    "    print(i + 1)\n",
    "    L.append(i**2)\n",
    "print(L)"
   ]
  },
  {
   "cell_type": "code",
   "execution_count": 23,
   "id": "89c7fb3c",
   "metadata": {},
   "outputs": [
    {
     "name": "stdout",
     "output_type": "stream",
     "text": [
      "akama\n",
      "wefwe\n",
      "apple\n",
      "loop ends\n"
     ]
    }
   ],
   "source": [
    "s = {\"apple\",\"wefwe\",\"akama\" }\n",
    "for x in s:\n",
    "    print(x)\n",
    "else:\n",
    "    print (\"loop ends\")\n"
   ]
  },
  {
   "cell_type": "code",
   "execution_count": 34,
   "id": "9f9d1f6e",
   "metadata": {},
   "outputs": [
    {
     "name": "stdout",
     "output_type": "stream",
     "text": [
      "A 23\n",
      "B 123\n",
      "C ABC\n"
     ]
    }
   ],
   "source": [
    "q = {\"A\":23, \"B\":123, \"C\":'ABC'}\n",
    "for x in q:\n",
    "    print(x, q[x])"
   ]
  },
  {
   "cell_type": "code",
   "execution_count": 56,
   "id": "8d8619ed",
   "metadata": {},
   "outputs": [
    {
     "name": "stdout",
     "output_type": "stream",
     "text": [
      "-10\n"
     ]
    }
   ],
   "source": [
    "L = [1,2,4,-10,-5,13]\n",
    "m = L[0]\n",
    "for i in L:\n",
    "    if i < m:\n",
    "        m = i\n",
    "    \n",
    "print(m)"
   ]
  },
  {
   "cell_type": "code",
   "execution_count": 63,
   "id": "cd642648",
   "metadata": {},
   "outputs": [
    {
     "name": "stdout",
     "output_type": "stream",
     "text": [
      "12\n"
     ]
    }
   ],
   "source": [
    "Q = [12,233,344,6778,77]\n",
    "p = Q[0]\n",
    "for T in Q:\n",
    "    if T<p:\n",
    "        P = T\n",
    "       \n",
    "print(p)"
   ]
  },
  {
   "cell_type": "code",
   "execution_count": 74,
   "id": "c637267f",
   "metadata": {},
   "outputs": [
    {
     "name": "stdout",
     "output_type": "stream",
     "text": [
      "[34, 333, 456, 44567, 344, 12777, 4566]\n"
     ]
    }
   ],
   "source": [
    "L = [12777,333,456,44567,344,34,4566]\n",
    "m = L[0]\n",
    "idx = 0\n",
    "c = 0\n",
    "for i in L:\n",
    "    if i<m:\n",
    "        m = i\n",
    "        idx = c\n",
    "    c+=1\n",
    "tmp = L[0]\n",
    "L[0] = m\n",
    "L[idx] = tmp\n",
    "print(L)"
   ]
  },
  {
   "cell_type": "code",
   "execution_count": 3,
   "id": "98d86593",
   "metadata": {},
   "outputs": [
    {
     "name": "stdout",
     "output_type": "stream",
     "text": [
      "\n"
     ]
    }
   ],
   "source": [
    "L = [0.3,-23,-344,2,3,4555]\n",
    "for j in range(len(L)):\n",
    "    m = L[j]\n",
    "    idx = j\n",
    "    c = j\n",
    "    for i in range (j,len(L)):\n",
    "        if L[i] < m:\n",
    "            m = L[i]\n",
    "            idx = c\n",
    "        c += 1\n",
    "    tmp = L[j]\n",
    "    L[j] = m\n",
    "    L[idx] = tmp\n",
    "    \n",
    "print()\n"
   ]
  },
  {
   "cell_type": "code",
   "execution_count": 5,
   "id": "0e1fa843",
   "metadata": {},
   "outputs": [],
   "source": [
    "def print_all():\n",
    "    print(\"lweny marwa\")\n",
    "    print(\"ROHO\")\n"
   ]
  },
  {
   "cell_type": "code",
   "execution_count": 7,
   "id": "4c63596e",
   "metadata": {},
   "outputs": [
    {
     "name": "stdout",
     "output_type": "stream",
     "text": [
      "lweny marwa\n",
      "ROHO\n"
     ]
    }
   ],
   "source": [
    "print_all()\n",
    "\n",
    "\n",
    "\n",
    "\n"
   ]
  },
  {
   "cell_type": "code",
   "execution_count": 8,
   "id": "4b2479a0",
   "metadata": {},
   "outputs": [],
   "source": [
    "def PrintSuccess():\n",
    "    \"\"\"This function is basically printing 'hello world'.\n",
    "    \"\"\"\n",
    "    print(\"hellow Allan Akama\")"
   ]
  },
  {
   "cell_type": "code",
   "execution_count": 9,
   "id": "e16f3667",
   "metadata": {},
   "outputs": [],
   "source": [
    "PrintSuccess?"
   ]
  },
  {
   "cell_type": "code",
   "execution_count": 17,
   "id": "7a98d510",
   "metadata": {},
   "outputs": [],
   "source": [
    "def printGiven(given):\n",
    "    \"\"\"This function will print the details provided by the user if a string or else it will \n",
    "    while show the type of message it is.\n",
    "    \"\"\"\n",
    "    if isinstance(given,str):\n",
    "        print(given)\n",
    "    else:\n",
    "        print(\"The given input is not a string but rather a:\",type(given))\n"
   ]
  },
  {
   "cell_type": "code",
   "execution_count": 18,
   "id": "a9eef3bb",
   "metadata": {},
   "outputs": [
    {
     "name": "stdout",
     "output_type": "stream",
     "text": [
      "The given input is not a string but rather a: <class 'int'>\n"
     ]
    }
   ],
   "source": [
    "printGiven(23)"
   ]
  },
  {
   "cell_type": "code",
   "execution_count": 20,
   "id": "82885016",
   "metadata": {},
   "outputs": [
    {
     "name": "stdout",
     "output_type": "stream",
     "text": [
      "I am the best\n"
     ]
    }
   ],
   "source": [
    "printGiven(\"I am the best\")"
   ]
  },
  {
   "cell_type": "code",
   "execution_count": 27,
   "id": "601e8735",
   "metadata": {},
   "outputs": [],
   "source": [
    "def mypow(a,b):\n",
    "    c= a**b\n",
    "    print(c)"
   ]
  },
  {
   "cell_type": "code",
   "execution_count": 30,
   "id": "ec500bda",
   "metadata": {},
   "outputs": [
    {
     "name": "stdout",
     "output_type": "stream",
     "text": [
      "180873848807969137175755595786170668470989991997271802283164235505952114647920669909808566444553434848785400390625\n"
     ]
    }
   ],
   "source": [
    "mypow(375,44)"
   ]
  },
  {
   "cell_type": "code",
   "execution_count": 73,
   "id": "18e7c84f",
   "metadata": {},
   "outputs": [],
   "source": [
    "def CheckDetails(a,c,b):\n",
    "    if isinstance(a,(int,float)) and isinstance(c,(int,float)) and isinstance(b,(int,float)):\n",
    "        print((a+c)**34)\n",
    "    else:\n",
    "        print(\"Error\")\n",
    "\n",
    "    "
   ]
  },
  {
   "cell_type": "code",
   "execution_count": 74,
   "id": "998b9bec",
   "metadata": {},
   "outputs": [
    {
     "name": "stdout",
     "output_type": "stream",
     "text": [
      "54116956037952111668959660849\n"
     ]
    }
   ],
   "source": [
    "CheckDetails(3,4,3)"
   ]
  },
  {
   "cell_type": "code",
   "execution_count": 75,
   "id": "66d02641",
   "metadata": {},
   "outputs": [
    {
     "name": "stdout",
     "output_type": "stream",
     "text": [
      "3467605794827428413839553521676387804144290866542902635180792751674736702439826499791003134787099320203999396287946021253718677265318654809\n"
     ]
    }
   ],
   "source": [
    "CheckDetails(2383,9494,4994)"
   ]
  },
  {
   "cell_type": "code",
   "execution_count": 96,
   "id": "6d34ebc9",
   "metadata": {},
   "outputs": [
    {
     "name": "stdout",
     "output_type": "stream",
     "text": [
      "ENTER :i love you\n",
      "i love you is not an integer <class 'str'>\n"
     ]
    }
   ],
   "source": [
    "a = input(\"ENTER :\" ) \n",
    "if isinstance == int:\n",
    "    print(\"integer\")\n",
    "else:\n",
    "    print(a,\"is not an integer\",type(a))\n"
   ]
  },
  {
   "cell_type": "code",
   "execution_count": 90,
   "id": "b11aa976",
   "metadata": {},
   "outputs": [],
   "source": [
    "int?\n"
   ]
  },
  {
   "cell_type": "code",
   "execution_count": 97,
   "id": "17552083",
   "metadata": {},
   "outputs": [],
   "source": [
    "def g():\n",
    "    a = 124555\n",
    "    b = 2299922\n",
    "    c = a*b\n",
    "    print(\"DONE\")\n",
    "    return"
   ]
  },
  {
   "cell_type": "code",
   "execution_count": 100,
   "id": "c0378836",
   "metadata": {},
   "outputs": [
    {
     "name": "stdout",
     "output_type": "stream",
     "text": [
      "DONE\n",
      "<class 'type'> None\n"
     ]
    }
   ],
   "source": [
    "print(type,g())"
   ]
  },
  {
   "cell_type": "code",
   "execution_count": 107,
   "id": "18aa09e4",
   "metadata": {},
   "outputs": [],
   "source": [
    "def g():\n",
    "    a = 23433\n",
    "    b = 12345678\n",
    "    d = a*b\n",
    "    print(\"DONE\")\n",
    "    return d\n"
   ]
  },
  {
   "cell_type": "code",
   "execution_count": 108,
   "id": "c724292e",
   "metadata": {},
   "outputs": [
    {
     "name": "stdout",
     "output_type": "stream",
     "text": [
      "DONE\n"
     ]
    },
    {
     "data": {
      "text/plain": [
       "289296272574"
      ]
     },
     "execution_count": 108,
     "metadata": {},
     "output_type": "execute_result"
    }
   ],
   "source": [
    "g()"
   ]
  },
  {
   "cell_type": "code",
   "execution_count": 118,
   "id": "f8294c3d",
   "metadata": {},
   "outputs": [],
   "source": [
    "def s():\n",
    "    a = 8222\n",
    "    b = 2993\n",
    "    d = \"Something\"\n",
    "    return a,b,d"
   ]
  },
  {
   "cell_type": "code",
   "execution_count": 124,
   "id": "b0180ab8",
   "metadata": {},
   "outputs": [
    {
     "name": "stdout",
     "output_type": "stream",
     "text": [
      "8222 2993 Something\n"
     ]
    }
   ],
   "source": [
    "x,y,z = s()\n",
    "print(x,y,z)"
   ]
  },
  {
   "cell_type": "code",
   "execution_count": 133,
   "id": "a18a9a3f",
   "metadata": {},
   "outputs": [],
   "source": [
    "def add(*args):\n",
    "    sum = 0\n",
    "    for i in range(len(args)):\n",
    "        sum += args[i]  #sum = sum + args[i]\n",
    "    return sum\n",
    "\n"
   ]
  },
  {
   "cell_type": "code",
   "execution_count": 134,
   "id": "487fee38",
   "metadata": {},
   "outputs": [
    {
     "name": "stdout",
     "output_type": "stream",
     "text": [
      "617143\n"
     ]
    }
   ],
   "source": [
    "print(add(233,344,4445,56555,555566))"
   ]
  },
  {
   "cell_type": "code",
   "execution_count": 138,
   "id": "ac72173f",
   "metadata": {},
   "outputs": [
    {
     "name": "stdout",
     "output_type": "stream",
     "text": [
      "702408861846283170116637\n"
     ]
    }
   ],
   "source": [
    "print((add(233,3444,678,88887778)**3))"
   ]
  },
  {
   "cell_type": "code",
   "execution_count": 16,
   "id": "ac6176d2",
   "metadata": {},
   "outputs": [],
   "source": [
    "def f(**args):\n",
    "    for x in args:\n",
    "        print(x,args[x])"
   ]
  },
  {
   "cell_type": "code",
   "execution_count": 17,
   "id": "96d83c59",
   "metadata": {},
   "outputs": [
    {
     "name": "stdout",
     "output_type": "stream",
     "text": [
      "a illest\n",
      "b 21\n",
      "c 345678\n",
      "d 345642345\n"
     ]
    }
   ],
   "source": [
    "f(a=\"illest\", b= 21, c= 345678,d= 345642345)"
   ]
  },
  {
   "cell_type": "code",
   "execution_count": 18,
   "id": "d689871a",
   "metadata": {},
   "outputs": [],
   "source": [
    "def gg(s=5):\n",
    "    print(s)"
   ]
  },
  {
   "cell_type": "code",
   "execution_count": 19,
   "id": "8f6bdef9",
   "metadata": {},
   "outputs": [
    {
     "name": "stdout",
     "output_type": "stream",
     "text": [
      "5\n"
     ]
    }
   ],
   "source": [
    "gg()"
   ]
  },
  {
   "cell_type": "code",
   "execution_count": 20,
   "id": "82b45707",
   "metadata": {},
   "outputs": [
    {
     "name": "stdout",
     "output_type": "stream",
     "text": [
      "45678\n"
     ]
    }
   ],
   "source": [
    "gg(45678)"
   ]
  },
  {
   "cell_type": "code",
   "execution_count": 21,
   "id": "ca04796e",
   "metadata": {},
   "outputs": [
    {
     "name": "stdout",
     "output_type": "stream",
     "text": [
      "heloo\n"
     ]
    }
   ],
   "source": [
    "gg(\"heloo\")"
   ]
  },
  {
   "cell_type": "code",
   "execution_count": 22,
   "id": "6975f83a",
   "metadata": {},
   "outputs": [
    {
     "name": "stdout",
     "output_type": "stream",
     "text": [
      "[-23, 455, 66]\n"
     ]
    }
   ],
   "source": [
    "L = [2233,455,66]\n",
    "L2 = L\n",
    "L2[0] = -23\n",
    "print(L)"
   ]
  },
  {
   "cell_type": "code",
   "execution_count": 38,
   "id": "7dbc15dd",
   "metadata": {},
   "outputs": [],
   "source": [
    "def Checkifnumeric(*args):\n",
    "    for i in args:\n",
    "        if isinstance(i,(float,int)):\n",
    "            print(\"Numeric\")\n",
    "        else:\n",
    "            print(\"Not Numeric\")"
   ]
  },
  {
   "cell_type": "code",
   "execution_count": 40,
   "id": "fa2664a1",
   "metadata": {},
   "outputs": [
    {
     "name": "stdout",
     "output_type": "stream",
     "text": [
      "Numeric\n",
      "Numeric\n"
     ]
    },
    {
     "data": {
      "text/plain": [
       "(None, (233, 454, 544), (112, 34445, 5666, 'low'))"
      ]
     },
     "execution_count": 40,
     "metadata": {},
     "output_type": "execute_result"
    }
   ],
   "source": [
    "Checkifnumeric(2,3),(233,454,544),(112,34445,5666,\"low\")"
   ]
  },
  {
   "cell_type": "code",
   "execution_count": 47,
   "id": "bda6f57b",
   "metadata": {},
   "outputs": [],
   "source": [
    "price = 12\n",
    "s = \"The price of this book is: \"\n",
    "v = s + str(price)"
   ]
  },
  {
   "cell_type": "code",
   "execution_count": 48,
   "id": "26ad2650",
   "metadata": {},
   "outputs": [
    {
     "name": "stdout",
     "output_type": "stream",
     "text": [
      "The price of this book is: 12\n"
     ]
    }
   ],
   "source": [
    "print(v)"
   ]
  },
  {
   "cell_type": "code",
   "execution_count": 51,
   "id": "bd5719f5",
   "metadata": {},
   "outputs": [
    {
     "name": "stdout",
     "output_type": "stream",
     "text": [
      "are you and\n"
     ]
    }
   ],
   "source": [
    "s = \"How are you and where do you come from?\"\n",
    "print(s[4:15])"
   ]
  },
  {
   "cell_type": "code",
   "execution_count": 53,
   "id": "140c506c",
   "metadata": {},
   "outputs": [
    {
     "data": {
      "text/plain": [
       "str"
      ]
     },
     "execution_count": 53,
     "metadata": {},
     "output_type": "execute_result"
    }
   ],
   "source": [
    "type(s[4:15])"
   ]
  },
  {
   "cell_type": "code",
   "execution_count": 54,
   "id": "611fb0c8",
   "metadata": {},
   "outputs": [
    {
     "data": {
      "text/plain": [
       "'?'"
      ]
     },
     "execution_count": 54,
     "metadata": {},
     "output_type": "execute_result"
    }
   ],
   "source": [
    "s[-1]"
   ]
  },
  {
   "cell_type": "code",
   "execution_count": 57,
   "id": "fca36720",
   "metadata": {},
   "outputs": [
    {
     "data": {
      "text/plain": [
       "'o r o '"
      ]
     },
     "execution_count": 57,
     "metadata": {},
     "output_type": "execute_result"
    }
   ],
   "source": [
    "s[1:12:2]"
   ]
  },
  {
   "cell_type": "code",
   "execution_count": 60,
   "id": "068c099c",
   "metadata": {},
   "outputs": [
    {
     "data": {
      "text/plain": [
       "'?morf emoc uoy od erehw dna uoy era woH'"
      ]
     },
     "execution_count": 60,
     "metadata": {},
     "output_type": "execute_result"
    }
   ],
   "source": [
    "s[::-1]"
   ]
  },
  {
   "cell_type": "code",
   "execution_count": 61,
   "id": "d6560790",
   "metadata": {},
   "outputs": [
    {
     "name": "stdout",
     "output_type": "stream",
     "text": [
      "39\n"
     ]
    }
   ],
   "source": [
    "print(len(s))"
   ]
  },
  {
   "cell_type": "code",
   "execution_count": 62,
   "id": "fd953cc9",
   "metadata": {},
   "outputs": [
    {
     "name": "stdout",
     "output_type": "stream",
     "text": [
      "How are you and where do you come from?\n"
     ]
    }
   ],
   "source": [
    "b = s.strip()\n",
    "print(b)"
   ]
  },
  {
   "cell_type": "code",
   "execution_count": 67,
   "id": "f9c99fa3",
   "metadata": {},
   "outputs": [],
   "source": [
    "T = '                  I believe you    can see  the     spaces    in this sentence                           '\n",
    "a = T.strip()"
   ]
  },
  {
   "cell_type": "code",
   "execution_count": 68,
   "id": "e8aaa56a",
   "metadata": {},
   "outputs": [
    {
     "name": "stdout",
     "output_type": "stream",
     "text": [
      "I believe you    can see  the     spaces    in this sentence\n"
     ]
    }
   ],
   "source": [
    "print(a)"
   ]
  },
  {
   "cell_type": "code",
   "execution_count": 71,
   "id": "5c4896dd",
   "metadata": {},
   "outputs": [
    {
     "name": "stdout",
     "output_type": "stream",
     "text": [
      "abc def gh\n"
     ]
    }
   ],
   "source": [
    "a = \"ABC def gh\"\n",
    "b = a.lower()\n",
    "print(b)"
   ]
  },
  {
   "cell_type": "code",
   "execution_count": 73,
   "id": "2074fc01",
   "metadata": {},
   "outputs": [
    {
     "name": "stdout",
     "output_type": "stream",
     "text": [
      "ABC DEF ,,,, GH\n"
     ]
    }
   ],
   "source": [
    "a = \"abc Def ,,,, gh\"\n",
    "b = a.upper()\n",
    "print(b)"
   ]
  },
  {
   "cell_type": "code",
   "execution_count": 86,
   "id": "7569ec19",
   "metadata": {},
   "outputs": [],
   "source": [
    "a = \"hello you ,,,, there\"\n",
    "d = a.replace(\",,,,\", \"***\" ) "
   ]
  },
  {
   "cell_type": "code",
   "execution_count": 87,
   "id": "b82f51f5",
   "metadata": {},
   "outputs": [
    {
     "name": "stdout",
     "output_type": "stream",
     "text": [
      "hello you *** there\n"
     ]
    }
   ],
   "source": [
    "print(d)"
   ]
  },
  {
   "cell_type": "code",
   "execution_count": null,
   "id": "5c6faa7c",
   "metadata": {},
   "outputs": [],
   "source": [
    "#PROJECTS\n"
   ]
  },
  {
   "cell_type": "code",
   "execution_count": 37,
   "id": "f6e1495a",
   "metadata": {},
   "outputs": [],
   "source": [
    "import random\n",
    "def guess(x):\n",
    "    random_number = random.randint(1,20)\n",
    "    guess = 0\n",
    "    while guess != random_number:\n",
    "        guess = int(input(f\"Guess a number between 1 and 20:\"))\n",
    "        if guess < random_number:\n",
    "            print (\"sorry, low \")\n",
    "        elif guess > random_number:\n",
    "            print(\"sorry, high\")\n",
    "    print(f\"Good job you have the right number which is {random_number}\")\n",
    "\n",
    "\n"
   ]
  },
  {
   "cell_type": "code",
   "execution_count": 30,
   "id": "01cce242",
   "metadata": {},
   "outputs": [
    {
     "name": "stdout",
     "output_type": "stream",
     "text": [
      "Guess a number between 1 and 10 until you get it right : 9\n",
      "Guess a number between 1 and 10 until you get it right : 3\n",
      "Guess a number between 1 and 10 until you get it right : 4\n",
      "Guess a number between 1 and 10 until you get it right : 2\n",
      "Guess a number between 1 and 10 until you get it right : 1\n",
      "Guess a number between 1 and 10 until you get it right : 8\n",
      "Guess a number between 1 and 10 until you get it right : 5\n",
      "Guess a number between 1 and 10 until you get it right : 4\n",
      "Guess a number between 1 and 10 until you get it right : 3\n",
      "Guess a number between 1 and 10 until you get it right : 1\n",
      "Guess a number between 1 and 10 until you get it right : 6\n",
      "Well guessed!\n"
     ]
    }
   ],
   "source": [
    "import random\n",
    "target_num, guess_num = random.randint(1, 10),0 \n",
    "while target_num != guess_num:\n",
    "    guess_num = int(input('Guess a number between 1 and 10 until you get it right : '))\n",
    "print('Well guessed!')"
   ]
  },
  {
   "cell_type": "code",
   "execution_count": null,
   "id": "348af19c",
   "metadata": {},
   "outputs": [],
   "source": []
  },
  {
   "cell_type": "code",
   "execution_count": null,
   "id": "5ea60452",
   "metadata": {},
   "outputs": [],
   "source": []
  }
 ],
 "metadata": {
  "kernelspec": {
   "display_name": "Python 3 (ipykernel)",
   "language": "python",
   "name": "python3"
  },
  "language_info": {
   "codemirror_mode": {
    "name": "ipython",
    "version": 3
   },
   "file_extension": ".py",
   "mimetype": "text/x-python",
   "name": "python",
   "nbconvert_exporter": "python",
   "pygments_lexer": "ipython3",
   "version": "3.9.7"
  }
 },
 "nbformat": 4,
 "nbformat_minor": 5
}
